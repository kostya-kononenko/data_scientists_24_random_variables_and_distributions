{
 "cells": [
  {
   "cell_type": "code",
   "execution_count": 3,
   "metadata": {
    "collapsed": true
   },
   "outputs": [
    {
     "name": "stdout",
     "output_type": "stream",
     "text": [
      "The root mean square deviation of a random variable X: 390.5\n",
      "The root mean square deviation of a random variable Y: 300.0\n"
     ]
    }
   ],
   "source": [
    "math_x = 1000 * 0.5 + 1500 * 0.3 + 2000 * 0.2\n",
    "math_y = 1000 * 0.4 + 1500 * 0.4 + 1750 * 0.2\n",
    "dispersion_x = 1000**2 * 0.5 + 1500**2 * 0.3 + 2000**2 * 0.2 - math_x**2\n",
    "dispersion_y = 1000**2 * 0.4 + 1500**2 * 0.4 + 1750**2 * 0.2 - math_y**2\n",
    "root_mean_square_deviation_x = dispersion_x**0.5\n",
    "root_mean_square_deviation_y = dispersion_y**0.5\n",
    "print(\"The root mean square deviation of a random variable X:\", round(root_mean_square_deviation_x, 1))\n",
    "print(\"The root mean square deviation of a random variable Y:\", round(root_mean_square_deviation_y, 1))"
   ]
  },
  {
   "cell_type": "code",
   "execution_count": null,
   "outputs": [],
   "source": [
    "# Set 1 from Table 1 with risk 390.5 is more risky in production than Set 2 from Table 2 with risk 300.\n",
    "# Set 2 must be selected."
   ],
   "metadata": {
    "collapsed": false
   }
  }
 ],
 "metadata": {
  "kernelspec": {
   "display_name": "Python 3",
   "language": "python",
   "name": "python3"
  },
  "language_info": {
   "codemirror_mode": {
    "name": "ipython",
    "version": 2
   },
   "file_extension": ".py",
   "mimetype": "text/x-python",
   "name": "python",
   "nbconvert_exporter": "python",
   "pygments_lexer": "ipython2",
   "version": "2.7.6"
  }
 },
 "nbformat": 4,
 "nbformat_minor": 0
}
