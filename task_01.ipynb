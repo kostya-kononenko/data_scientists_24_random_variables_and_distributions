{
 "cells": [
  {
   "cell_type": "code",
   "execution_count": 5,
   "metadata": {
    "collapsed": true
   },
   "outputs": [
    {
     "name": "stdout",
     "output_type": "stream",
     "text": [
      "0.25\n"
     ]
    }
   ],
   "source": [
    "deviation_first_economist = 0.1\n",
    "deviation_second_economist = 0.2\n",
    "documents_first_economist = 40\n",
    "documents_second_economist = 60\n",
    "\n",
    "all_documents = documents_first_economist + documents_second_economist\n",
    "probability_of_getting_documents_first_economist = documents_first_economist / all_documents\n",
    "probability_of_getting_documents_second_economist = documents_second_economist / all_documents\n",
    "\n",
    "probability_documents_compiled_by_the_first_economist = (deviation_first_economist * probability_of_getting_documents_first_economist) / (deviation_first_economist * probability_of_getting_documents_first_economist + deviation_second_economist * probability_of_getting_documents_second_economist)\n",
    "\n",
    "print(round(probability_documents_compiled_by_the_first_economist, 2))"
   ]
  },
  {
   "cell_type": "code",
   "execution_count": null,
   "outputs": [],
   "source": [],
   "metadata": {
    "collapsed": false
   }
  }
 ],
 "metadata": {
  "kernelspec": {
   "display_name": "Python 3",
   "language": "python",
   "name": "python3"
  },
  "language_info": {
   "codemirror_mode": {
    "name": "ipython",
    "version": 2
   },
   "file_extension": ".py",
   "mimetype": "text/x-python",
   "name": "python",
   "nbconvert_exporter": "python",
   "pygments_lexer": "ipython2",
   "version": "2.7.6"
  }
 },
 "nbformat": 4,
 "nbformat_minor": 0
}
